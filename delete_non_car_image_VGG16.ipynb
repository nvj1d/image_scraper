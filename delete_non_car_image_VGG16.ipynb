{
  "nbformat": 4,
  "nbformat_minor": 0,
  "metadata": {
    "colab": {
      "name": "scrap_classification_vgg16.ipynb",
      "provenance": [],
      "collapsed_sections": [],
      "mount_file_id": "1fkHpHwL78vsRm91QSbKOow-xxfaHu-Il",
      "authorship_tag": "ABX9TyNLgR/as0mHAwS+AubatLBV"
    },
    "kernelspec": {
      "name": "python3",
      "display_name": "Python 3"
    },
    "language_info": {
      "name": "python"
    },
    "accelerator": "GPU",
    "gpuClass": "standard"
  },
  "cells": [
    {
      "cell_type": "code",
      "source": [
        "#enable the gpu\n",
        "import tensorflow as tf\n",
        "device_list = tf.test.gpu_device_name()\n",
        "device_list"
      ],
      "metadata": {
        "colab": {
          "base_uri": "https://localhost:8080/",
          "height": 36
        },
        "id": "fhTI1WBE871v",
        "outputId": "85d27f39-24af-485e-a391-9bff7beef427"
      },
      "execution_count": 3,
      "outputs": [
        {
          "output_type": "execute_result",
          "data": {
            "text/plain": [
              "'/device:GPU:0'"
            ],
            "application/vnd.google.colaboratory.intrinsic+json": {
              "type": "string"
            }
          },
          "metadata": {},
          "execution_count": 3
        }
      ]
    },
    {
      "cell_type": "markdown",
      "source": [
        "**VGG16:**"
      ],
      "metadata": {
        "id": "8fx8PAgfaC6R"
      }
    },
    {
      "cell_type": "code",
      "source": [
        "from keras.applications.vgg16 import  VGG16"
      ],
      "metadata": {
        "id": "1B9RsCpCaGaX"
      },
      "execution_count": 4,
      "outputs": []
    },
    {
      "cell_type": "code",
      "source": [
        "from tensorflow.keras.preprocessing import image\n",
        "from tensorflow.keras.applications.vgg16 import preprocess_input, decode_predictions\n",
        "import numpy as np\n",
        "import os"
      ],
      "metadata": {
        "id": "qX38HzUFadoE"
      },
      "execution_count": 5,
      "outputs": []
    },
    {
      "cell_type": "code",
      "source": [
        "model = VGG16(weights='imagenet')"
      ],
      "metadata": {
        "id": "3Joo9vy4aOiH",
        "colab": {
          "base_uri": "https://localhost:8080/"
        },
        "outputId": "85ebf981-4d47-4b16-9671-9949b6758e86"
      },
      "execution_count": 6,
      "outputs": [
        {
          "output_type": "stream",
          "name": "stdout",
          "text": [
            "Downloading data from https://storage.googleapis.com/tensorflow/keras-applications/vgg16/vgg16_weights_tf_dim_ordering_tf_kernels.h5\n",
            "553467904/553467096 [==============================] - 13s 0us/step\n",
            "553476096/553467096 [==============================] - 13s 0us/step\n"
          ]
        }
      ]
    },
    {
      "cell_type": "code",
      "source": [
        "root_dir = '/content/drive/MyDrive/new_scrap/'"
      ],
      "metadata": {
        "id": "shp8FfY9Anie"
      },
      "execution_count": 7,
      "outputs": []
    },
    {
      "cell_type": "code",
      "source": [
        "model.summary()"
      ],
      "metadata": {
        "id": "GKUkZqN1aYPm"
      },
      "execution_count": null,
      "outputs": []
    },
    {
      "cell_type": "code",
      "source": [
        "car_classes = ['minivan', 'limousine', 'sports_car', 'convertible', 'cab', 'racer', 'passenger_car', 'recreational_vehicle', 'pickup', 'police_van', 'minibus', 'moving_van', 'tow_truck', 'jeep', 'landrover', 'beach_wagon']\n",
        "flag = 0"
      ],
      "metadata": {
        "id": "_O6ikEw5jbIL"
      },
      "execution_count": 9,
      "outputs": []
    },
    {
      "cell_type": "code",
      "source": [
        "def check_car(img_path, our_list, flag):\n",
        "  img = image.load_img(img_path, color_mode='rgb', target_size=(224, 224))\n",
        "  # display(img)\n",
        "  x = image.img_to_array(img)\n",
        "  x = np.expand_dims(x, axis=0)\n",
        "  x = preprocess_input(x)\n",
        "  features = model.predict(x)\n",
        "  p = decode_predictions(features)\n",
        "  for i in range(len(our_list)):\n",
        "    if our_list[i] in [y[1] for y in p[0]]:\n",
        "      flag = 1\n",
        "  if flag == 1:\n",
        "    return(0)\n",
        "  else :\n",
        "    return(-1)"
      ],
      "metadata": {
        "id": "telA7KqPlGZh"
      },
      "execution_count": 10,
      "outputs": []
    },
    {
      "cell_type": "code",
      "source": [
        "for dir in os.listdir(root_dir):\n",
        "  print('in directory: ' + dir)\n",
        "  for file in os.listdir(root_dir+dir):\n",
        "    if check_car(root_dir+dir+'/'+file,car_classes, flag) == -1 :\n",
        "      os.remove(root_dir+dir+'/'+file)"
      ],
      "metadata": {
        "id": "GmDEcrTtGOSt"
      },
      "execution_count": null,
      "outputs": []
    }
  ]
}